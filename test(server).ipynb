{
 "cells": [
  {
   "cell_type": "code",
   "execution_count": null,
   "id": "bc7a57d6",
   "metadata": {},
   "outputs": [],
   "source": [
    "import eventlet\n",
    "import socketio\n",
    "\n",
    "sio = socketio.Server()\n",
    "app = socketio.WSGIApp(sio, static_files={\n",
    "    '/': {'content_type': 'text/html', 'filename': 'index.html'}\n",
    "})\n",
    "\n",
    "@sio.event\n",
    "def connect(sid, environ):\n",
    "    print('connect ', sid)\n",
    "\n",
    "@sio.event\n",
    "def my_message(sid, data):\n",
    "    print('message ', data)\n",
    "\n",
    "@sio.event\n",
    "def disconnect(sid):\n",
    "    print('disconnect ', sid)\n",
    "\n",
    "if __name__ == '__main__':\n",
    "    eventlet.wsgi.server(eventlet.listen(('', 5000)), app)"
   ]
  },
  {
   "cell_type": "code",
   "execution_count": null,
   "id": "d59f4c40",
   "metadata": {},
   "outputs": [],
   "source": [
    "\n",
    "my_message(\"123\")"
   ]
  },
  {
   "cell_type": "code",
   "execution_count": null,
   "id": "1e464c79",
   "metadata": {},
   "outputs": [],
   "source": []
  },
  {
   "cell_type": "code",
   "execution_count": null,
   "id": "96a25ce9",
   "metadata": {},
   "outputs": [],
   "source": []
  }
 ],
 "metadata": {
  "kernelspec": {
   "display_name": "Python 3 (ipykernel)",
   "language": "python",
   "name": "python3"
  },
  "language_info": {
   "codemirror_mode": {
    "name": "ipython",
    "version": 3
   },
   "file_extension": ".py",
   "mimetype": "text/x-python",
   "name": "python",
   "nbconvert_exporter": "python",
   "pygments_lexer": "ipython3",
   "version": "3.8.10"
  }
 },
 "nbformat": 4,
 "nbformat_minor": 5
}
