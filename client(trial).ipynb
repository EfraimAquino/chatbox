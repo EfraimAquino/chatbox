{
 "cells": [
  {
   "cell_type": "code",
   "execution_count": 1,
   "id": "e4f71176",
   "metadata": {},
   "outputs": [],
   "source": [
    "import math"
   ]
  },
  {
   "cell_type": "code",
   "execution_count": 2,
   "id": "6729533f",
   "metadata": {},
   "outputs": [
    {
     "data": {
      "text/plain": [
       "<module 'math' (built-in)>"
      ]
     },
     "execution_count": 2,
     "metadata": {},
     "output_type": "execute_result"
    }
   ],
   "source": [
    "math"
   ]
  },
  {
   "cell_type": "code",
   "execution_count": 3,
   "id": "c1d2e8b5",
   "metadata": {},
   "outputs": [],
   "source": [
    "import socketio\n"
   ]
  },
  {
   "cell_type": "code",
   "execution_count": 4,
   "id": "fd23f566",
   "metadata": {},
   "outputs": [],
   "source": [
    "sio=socketio.Client()\n"
   ]
  },
  {
   "cell_type": "code",
   "execution_count": null,
   "id": "5bb05f64",
   "metadata": {
    "scrolled": true
   },
   "outputs": [
    {
     "name": "stdout",
     "output_type": "stream",
     "text": [
      "123\n",
      "connection established\n"
     ]
    }
   ],
   "source": [
    "@sio.event\n",
    "def connect():\n",
    "    print(\"123\")\n",
    "    print('connection established')\n",
    "@sio.event\n",
    "def my_message(data):\n",
    "    print(\"ABC\")\n",
    "    print('message received with ', data)\n",
    "    sio.emit('my response', {'response': 'my response'})\n",
    "\n",
    "@sio.event\n",
    "def disconnect():\n",
    "    print('disconnected from server')\n",
    "\n",
    "sio.connect('http://localhost:5000')\n",
    "sio.wait()\n",
    "sio.my_message('123')"
   ]
  },
  {
   "cell_type": "code",
   "execution_count": null,
   "id": "26a69a5b",
   "metadata": {},
   "outputs": [],
   "source": []
  },
  {
   "cell_type": "code",
   "execution_count": null,
   "id": "ec7d6034",
   "metadata": {},
   "outputs": [],
   "source": []
  },
  {
   "cell_type": "code",
   "execution_count": null,
   "id": "6c5c459b",
   "metadata": {},
   "outputs": [],
   "source": []
  },
  {
   "cell_type": "code",
   "execution_count": null,
   "id": "0ce22450",
   "metadata": {},
   "outputs": [],
   "source": []
  },
  {
   "cell_type": "code",
   "execution_count": null,
   "id": "37c09c33",
   "metadata": {},
   "outputs": [],
   "source": []
  },
  {
   "cell_type": "code",
   "execution_count": null,
   "id": "f195efe4",
   "metadata": {},
   "outputs": [],
   "source": []
  },
  {
   "cell_type": "code",
   "execution_count": null,
   "id": "1360740e",
   "metadata": {},
   "outputs": [],
   "source": []
  },
  {
   "cell_type": "code",
   "execution_count": null,
   "id": "6ea9f219",
   "metadata": {},
   "outputs": [],
   "source": []
  },
  {
   "cell_type": "code",
   "execution_count": null,
   "id": "54163770",
   "metadata": {},
   "outputs": [],
   "source": []
  },
  {
   "cell_type": "code",
   "execution_count": null,
   "id": "9c98c869",
   "metadata": {},
   "outputs": [],
   "source": []
  }
 ],
 "metadata": {
  "kernelspec": {
   "display_name": "Python 3 (ipykernel)",
   "language": "python",
   "name": "python3"
  },
  "language_info": {
   "codemirror_mode": {
    "name": "ipython",
    "version": 3
   },
   "file_extension": ".py",
   "mimetype": "text/x-python",
   "name": "python",
   "nbconvert_exporter": "python",
   "pygments_lexer": "ipython3",
   "version": "3.8.10"
  }
 },
 "nbformat": 4,
 "nbformat_minor": 5
}
